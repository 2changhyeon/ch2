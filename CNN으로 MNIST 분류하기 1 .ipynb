{
 "cells": [
  {
   "cell_type": "code",
   "execution_count": 1,
   "id": "e946a45d",
   "metadata": {},
   "outputs": [],
   "source": [
    "import torch\n",
    "import torch.nn as nn"
   ]
  },
  {
   "cell_type": "code",
   "execution_count": 9,
   "id": "5949ef19",
   "metadata": {},
   "outputs": [
    {
     "name": "stdout",
     "output_type": "stream",
     "text": [
      "torch.Size([1, 1, 28, 28])\n"
     ]
    }
   ],
   "source": [
    "inputs = torch.Tensor(1,1,28,28) # 배치크기 채널 높이 너비\n",
    "print(format(inputs.shape))"
   ]
  },
  {
   "cell_type": "code",
   "execution_count": 13,
   "id": "f61c03ac",
   "metadata": {},
   "outputs": [
    {
     "name": "stdout",
     "output_type": "stream",
     "text": [
      "Conv2d(1, 32, kernel_size=(3, 3), stride=(1, 1), padding=(1, 1))\n"
     ]
    }
   ],
   "source": [
    "conv1 = nn.Conv2d(1,32,3,padding=1) # 1채널 받아서 32채널로 뽑아내는데 커널사이즈 3 패딩 1\n",
    "print(conv1)"
   ]
  },
  {
   "cell_type": "code",
   "execution_count": 14,
   "id": "f06e6b7b",
   "metadata": {},
   "outputs": [
    {
     "name": "stdout",
     "output_type": "stream",
     "text": [
      "Conv2d(32, 64, kernel_size=(3, 3), stride=(1, 1), padding=(1, 1))\n"
     ]
    }
   ],
   "source": [
    "conv2 = nn.Conv2d(32,64,kernel_size=3, padding=1)# 32채널 받아서 64채널로 뽑아내는데 커널사이즈 3 패딩 1\n",
    "print(conv2)"
   ]
  },
  {
   "cell_type": "code",
   "execution_count": 15,
   "id": "b645d487",
   "metadata": {},
   "outputs": [
    {
     "name": "stdout",
     "output_type": "stream",
     "text": [
      "MaxPool2d(kernel_size=2, stride=2, padding=0, dilation=1, ceil_mode=False)\n"
     ]
    }
   ],
   "source": [
    "pool = nn.MaxPool2d(2) # 맥스풀링 구현, 정수 하나를 인자로 넣으면 커널 사이즈와 스트라이드가 둘다 해당 값으로 지정된다.\n",
    "print(pool)"
   ]
  },
  {
   "cell_type": "code",
   "execution_count": 16,
   "id": "74373ec3",
   "metadata": {},
   "outputs": [
    {
     "name": "stdout",
     "output_type": "stream",
     "text": [
      "torch.Size([1, 32, 28, 28])\n"
     ]
    }
   ],
   "source": [
    " out = conv1(inputs) #conv1에 input을 넣어서 out으로\n",
    "print(out.shape) # 32채널 28너비 28높이의 텐서가 된다 "
   ]
  },
  {
   "cell_type": "code",
   "execution_count": 17,
   "id": "0dfd330e",
   "metadata": {},
   "outputs": [
    {
     "name": "stdout",
     "output_type": "stream",
     "text": [
      "torch.Size([1, 32, 14, 14])\n"
     ]
    }
   ],
   "source": [
    "out = pool(out)\n",
    "print(out.shape) # 맥스풀링에 통과시키고 맥스풀링 통과후의 텐서 크기 확인 "
   ]
  },
  {
   "cell_type": "code",
   "execution_count": 18,
   "id": "02634204",
   "metadata": {},
   "outputs": [
    {
     "name": "stdout",
     "output_type": "stream",
     "text": [
      "torch.Size([1, 64, 14, 14])\n"
     ]
    }
   ],
   "source": [
    "out = conv2(out)\n",
    "print(out.shape) # conv2에 out을 넣고 텐서크기 확인 "
   ]
  },
  {
   "cell_type": "code",
   "execution_count": 19,
   "id": "14a7bae2",
   "metadata": {},
   "outputs": [
    {
     "name": "stdout",
     "output_type": "stream",
     "text": [
      "torch.Size([1, 64, 7, 7])\n"
     ]
    }
   ],
   "source": [
    "out = pool(out)\n",
    "print(out.shape)"
   ]
  },
  {
   "cell_type": "code",
   "execution_count": 20,
   "id": "f72de049",
   "metadata": {},
   "outputs": [
    {
     "data": {
      "text/plain": [
       "1"
      ]
     },
     "execution_count": 20,
     "metadata": {},
     "output_type": "execute_result"
    }
   ],
   "source": [
    "out.size(0) #.size(n) 으로 n번째 차원에 접근한다."
   ]
  },
  {
   "cell_type": "code",
   "execution_count": 22,
   "id": "ba3b9021",
   "metadata": {},
   "outputs": [
    {
     "data": {
      "text/plain": [
       "7"
      ]
     },
     "execution_count": 22,
     "metadata": {},
     "output_type": "execute_result"
    }
   ],
   "source": [
    "out.size(1)\n",
    "out.size(2)\n",
    "out.size(3)"
   ]
  },
  {
   "cell_type": "code",
   "execution_count": 23,
   "id": "ed2f5358",
   "metadata": {},
   "outputs": [],
   "source": [
    "out = out.view(out.size(0),-1) # 첫번째 차원인 배치 차원은 그대로 두고 나머지는 펼쳐라\n",
    "#.veiw()를 사용하여 텐서를 펼치는 작업을 한다 "
   ]
  },
  {
   "cell_type": "code",
   "execution_count": 24,
   "id": "92b64d3a",
   "metadata": {},
   "outputs": [
    {
     "name": "stdout",
     "output_type": "stream",
     "text": [
      "torch.Size([1, 3136])\n"
     ]
    }
   ],
   "source": [
    "print(out.shape) # 모두 하나의 차원으로 통합되었다. 64x7x7 "
   ]
  },
  {
   "cell_type": "code",
   "execution_count": 25,
   "id": "6c11f448",
   "metadata": {},
   "outputs": [
    {
     "name": "stdout",
     "output_type": "stream",
     "text": [
      "torch.Size([1, 10])\n"
     ]
    }
   ],
   "source": [
    "fc=nn.Linear(3136,10) #input_dim = 3136, output_dim=10\n",
    "out = fc(out)\n",
    "print(out.shape)"
   ]
  },
  {
   "cell_type": "code",
   "execution_count": null,
   "id": "50be9ad9",
   "metadata": {},
   "outputs": [],
   "source": []
  }
 ],
 "metadata": {
  "kernelspec": {
   "display_name": "Python 3",
   "language": "python",
   "name": "python3"
  },
  "language_info": {
   "codemirror_mode": {
    "name": "ipython",
    "version": 3
   },
   "file_extension": ".py",
   "mimetype": "text/x-python",
   "name": "python",
   "nbconvert_exporter": "python",
   "pygments_lexer": "ipython3",
   "version": "3.8.8"
  }
 },
 "nbformat": 4,
 "nbformat_minor": 5
}
