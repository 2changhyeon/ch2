{
 "cells": [
  {
   "cell_type": "code",
   "execution_count": 1,
   "id": "3cda74fe",
   "metadata": {},
   "outputs": [
    {
     "data": {
      "text/plain": [
       "<torch._C.Generator at 0x2a78baeca90>"
      ]
     },
     "execution_count": 1,
     "metadata": {},
     "output_type": "execute_result"
    }
   ],
   "source": [
    "import torch\n",
    "import torch.nn as nn\n",
    "import torch.nn.functional as F\n",
    "import torch.optim as optim\n",
    "torch.manual_seed(1)  # 기본적인 import "
   ]
  },
  {
   "cell_type": "code",
   "execution_count": null,
   "id": "c5d3f470",
   "metadata": {},
   "outputs": [],
   "source": []
  },
  {
   "cell_type": "code",
   "execution_count": 2,
   "id": "744d0101",
   "metadata": {},
   "outputs": [],
   "source": [
    "x_train = [[1, 2, 1, 1],\n",
    "           [2, 1, 3, 2],\n",
    "           [3, 1, 3, 4],\n",
    "           [4, 1, 5, 5],\n",
    "           [1, 7, 5, 5],\n",
    "           [1, 2, 5, 6],\n",
    "           [1, 6, 6, 6],\n",
    "           [1, 7, 7, 7]] # 4개의 특성을 가진 8개의 샘플\n",
    "y_train = [2, 2, 2, 1, 1, 1, 0, 0] # 0 1 2 이기 때문에 샘플의 레이블은 3개로 존재할 것이다.\n",
    "x_train = torch.FloatTensor(x_train) # float으로 바꾸기 \n",
    "y_train = torch.LongTensor(y_train) # long으로 바꿔주기"
   ]
  },
  {
   "cell_type": "code",
   "execution_count": 3,
   "id": "028966e8",
   "metadata": {},
   "outputs": [
    {
     "name": "stdout",
     "output_type": "stream",
     "text": [
      "torch.Size([8, 4])\n",
      "torch.Size([8])\n"
     ]
    }
   ],
   "source": [
    "print(x_train.shape)\n",
    "print(y_train.shape) # 클래스는 3개이니까 y_train에서 원핫인코딩한거는 8x3이여야 한다."
   ]
  },
  {
   "cell_type": "code",
   "execution_count": 5,
   "id": "d5541e31",
   "metadata": {},
   "outputs": [
    {
     "name": "stdout",
     "output_type": "stream",
     "text": [
      "torch.Size([8, 3])\n"
     ]
    }
   ],
   "source": [
    "y_one_hot=torch.zeros(8,3) # 8x3 행렬만들고\n",
    "y_one_hot.scatter_(1,y_train.unsqueeze(1),1)\n",
    "print(y_one_hot.shape)"
   ]
  },
  {
   "cell_type": "code",
   "execution_count": 8,
   "id": "f266d67a",
   "metadata": {},
   "outputs": [],
   "source": [
    "w = torch.zeros((4,3), requires_grad=True) # 8x4를 w 곱해서 8x3으로 바꿔야 되니까 w는 4x3이여야 한다.\n",
    "b = torch.zeros(1, requires_grad=True)\n",
    "optimizer = optim.SGD([w,b],lr=0.1) # 초기화"
   ]
  },
  {
   "cell_type": "code",
   "execution_count": 11,
   "id": "c4bc5d65",
   "metadata": {},
   "outputs": [
    {
     "name": "stdout",
     "output_type": "stream",
     "text": [
      "Epoch    0/10000 Cost: 0.385264\n",
      "Epoch  100/10000 Cost: 0.358231\n",
      "Epoch  200/10000 Cost: 0.330756\n",
      "Epoch  300/10000 Cost: 0.306726\n",
      "Epoch  400/10000 Cost: 0.294556\n",
      "Epoch  500/10000 Cost: 0.285188\n",
      "Epoch  600/10000 Cost: 0.276403\n",
      "Epoch  700/10000 Cost: 0.268142\n",
      "Epoch  800/10000 Cost: 0.260353\n",
      "Epoch  900/10000 Cost: 0.252995\n",
      "Epoch 1000/10000 Cost: 0.246030\n",
      "Epoch 1100/10000 Cost: 0.239426\n",
      "Epoch 1200/10000 Cost: 0.233155\n",
      "Epoch 1300/10000 Cost: 0.227190\n",
      "Epoch 1400/10000 Cost: 0.221510\n",
      "Epoch 1500/10000 Cost: 0.216093\n",
      "Epoch 1600/10000 Cost: 0.210922\n",
      "Epoch 1700/10000 Cost: 0.205980\n",
      "Epoch 1800/10000 Cost: 0.201252\n",
      "Epoch 1900/10000 Cost: 0.196724\n",
      "Epoch 2000/10000 Cost: 0.192384\n",
      "Epoch 2100/10000 Cost: 0.188221\n",
      "Epoch 2200/10000 Cost: 0.184223\n",
      "Epoch 2300/10000 Cost: 0.180382\n",
      "Epoch 2400/10000 Cost: 0.176688\n",
      "Epoch 2500/10000 Cost: 0.173134\n",
      "Epoch 2600/10000 Cost: 0.169711\n",
      "Epoch 2700/10000 Cost: 0.166413\n",
      "Epoch 2800/10000 Cost: 0.163233\n",
      "Epoch 2900/10000 Cost: 0.160164\n",
      "Epoch 3000/10000 Cost: 0.157203\n",
      "Epoch 3100/10000 Cost: 0.154342\n",
      "Epoch 3200/10000 Cost: 0.151577\n",
      "Epoch 3300/10000 Cost: 0.148904\n",
      "Epoch 3400/10000 Cost: 0.146318\n",
      "Epoch 3500/10000 Cost: 0.143815\n",
      "Epoch 3600/10000 Cost: 0.141392\n",
      "Epoch 3700/10000 Cost: 0.139044\n",
      "Epoch 3800/10000 Cost: 0.136768\n",
      "Epoch 3900/10000 Cost: 0.134562\n",
      "Epoch 4000/10000 Cost: 0.132421\n",
      "Epoch 4100/10000 Cost: 0.130344\n",
      "Epoch 4200/10000 Cost: 0.128328\n",
      "Epoch 4300/10000 Cost: 0.126369\n",
      "Epoch 4400/10000 Cost: 0.124466\n",
      "Epoch 4500/10000 Cost: 0.122617\n",
      "Epoch 4600/10000 Cost: 0.120819\n",
      "Epoch 4700/10000 Cost: 0.119070\n",
      "Epoch 4800/10000 Cost: 0.117369\n",
      "Epoch 4900/10000 Cost: 0.115712\n",
      "Epoch 5000/10000 Cost: 0.114100\n",
      "Epoch 5100/10000 Cost: 0.112530\n",
      "Epoch 5200/10000 Cost: 0.111000\n",
      "Epoch 5300/10000 Cost: 0.109510\n",
      "Epoch 5400/10000 Cost: 0.108057\n",
      "Epoch 5500/10000 Cost: 0.106640\n",
      "Epoch 5600/10000 Cost: 0.105258\n",
      "Epoch 5700/10000 Cost: 0.103909\n",
      "Epoch 5800/10000 Cost: 0.102594\n",
      "Epoch 5900/10000 Cost: 0.101309\n",
      "Epoch 6000/10000 Cost: 0.100055\n",
      "Epoch 6100/10000 Cost: 0.098831\n",
      "Epoch 6200/10000 Cost: 0.097634\n",
      "Epoch 6300/10000 Cost: 0.096465\n",
      "Epoch 6400/10000 Cost: 0.095322\n",
      "Epoch 6500/10000 Cost: 0.094206\n",
      "Epoch 6600/10000 Cost: 0.093113\n",
      "Epoch 6700/10000 Cost: 0.092045\n",
      "Epoch 6800/10000 Cost: 0.091000\n",
      "Epoch 6900/10000 Cost: 0.089978\n",
      "Epoch 7000/10000 Cost: 0.088977\n",
      "Epoch 7100/10000 Cost: 0.087997\n",
      "Epoch 7200/10000 Cost: 0.087038\n",
      "Epoch 7300/10000 Cost: 0.086099\n",
      "Epoch 7400/10000 Cost: 0.085179\n",
      "Epoch 7500/10000 Cost: 0.084278\n",
      "Epoch 7600/10000 Cost: 0.083395\n",
      "Epoch 7700/10000 Cost: 0.082529\n",
      "Epoch 7800/10000 Cost: 0.081681\n",
      "Epoch 7900/10000 Cost: 0.080849\n",
      "Epoch 8000/10000 Cost: 0.080034\n",
      "Epoch 8100/10000 Cost: 0.079234\n",
      "Epoch 8200/10000 Cost: 0.078449\n",
      "Epoch 8300/10000 Cost: 0.077680\n",
      "Epoch 8400/10000 Cost: 0.076924\n",
      "Epoch 8500/10000 Cost: 0.076183\n",
      "Epoch 8600/10000 Cost: 0.075456\n",
      "Epoch 8700/10000 Cost: 0.074741\n",
      "Epoch 8800/10000 Cost: 0.074040\n",
      "Epoch 8900/10000 Cost: 0.073351\n",
      "Epoch 9000/10000 Cost: 0.072675\n",
      "Epoch 9100/10000 Cost: 0.072010\n",
      "Epoch 9200/10000 Cost: 0.071357\n",
      "Epoch 9300/10000 Cost: 0.070716\n",
      "Epoch 9400/10000 Cost: 0.070085\n",
      "Epoch 9500/10000 Cost: 0.069466\n",
      "Epoch 9600/10000 Cost: 0.068857\n",
      "Epoch 9700/10000 Cost: 0.068258\n",
      "Epoch 9800/10000 Cost: 0.067669\n",
      "Epoch 9900/10000 Cost: 0.067090\n",
      "Epoch 10000/10000 Cost: 0.066520\n"
     ]
    }
   ],
   "source": [
    "nb_epochs = 10000 # n번반복\n",
    "for epoch in range(nb_epochs +1):\n",
    "    \n",
    "    hypothesis = F.softmax(x_train.matmul(w)+b, dim=1) # 가설 # z = x_train.matmul(w)+b\n",
    "    cost = (y_one_hot * -torch.log(hypothesis)).sum(dim=1).mean() # cost = F.cross_entropy(z, y_train) 으로 바꿔도 된다. 하이레벨 \n",
    "    \n",
    "    optimizer.zero_grad()\n",
    "    cost.backward()\n",
    "    optimizer.step()\n",
    "    \n",
    "    if epoch % 100 ==0:\n",
    "        print('Epoch {:4d}/{} Cost: {:.6f}'.format(epoch, nb_epochs, cost.item())) \n",
    "        \n",
    "        # epoch 실행횟수를 늘이니까 cost의 값이 점점 0에 수렴해나갔다.\n",
    "    "
   ]
  },
  {
   "cell_type": "code",
   "execution_count": 13,
   "id": "3083e665",
   "metadata": {},
   "outputs": [
    {
     "name": "stdout",
     "output_type": "stream",
     "text": [
      "Epoch    0/10000 Cost: 1.098612\n",
      "Epoch  100/10000 Cost: 0.761050\n",
      "Epoch  200/10000 Cost: 0.689991\n",
      "Epoch  300/10000 Cost: 0.643229\n",
      "Epoch  400/10000 Cost: 0.604117\n",
      "Epoch  500/10000 Cost: 0.568255\n",
      "Epoch  600/10000 Cost: 0.533922\n",
      "Epoch  700/10000 Cost: 0.500291\n",
      "Epoch  800/10000 Cost: 0.466908\n",
      "Epoch  900/10000 Cost: 0.433507\n",
      "Epoch 1000/10000 Cost: 0.399962\n",
      "Epoch 1100/10000 Cost: 0.366378\n",
      "Epoch 1200/10000 Cost: 0.333642\n",
      "Epoch 1300/10000 Cost: 0.307042\n",
      "Epoch 1400/10000 Cost: 0.294653\n",
      "Epoch 1500/10000 Cost: 0.285279\n",
      "Epoch 1600/10000 Cost: 0.276489\n",
      "Epoch 1700/10000 Cost: 0.268222\n",
      "Epoch 1800/10000 Cost: 0.260428\n",
      "Epoch 1900/10000 Cost: 0.253066\n",
      "Epoch 2000/10000 Cost: 0.246098\n",
      "Epoch 2100/10000 Cost: 0.239491\n",
      "Epoch 2200/10000 Cost: 0.233216\n",
      "Epoch 2300/10000 Cost: 0.227248\n",
      "Epoch 2400/10000 Cost: 0.221565\n",
      "Epoch 2500/10000 Cost: 0.216146\n",
      "Epoch 2600/10000 Cost: 0.210973\n",
      "Epoch 2700/10000 Cost: 0.206028\n",
      "Epoch 2800/10000 Cost: 0.201298\n",
      "Epoch 2900/10000 Cost: 0.196769\n",
      "Epoch 3000/10000 Cost: 0.192427\n",
      "Epoch 3100/10000 Cost: 0.188261\n",
      "Epoch 3200/10000 Cost: 0.184262\n",
      "Epoch 3300/10000 Cost: 0.180419\n",
      "Epoch 3400/10000 Cost: 0.176724\n",
      "Epoch 3500/10000 Cost: 0.173168\n",
      "Epoch 3600/10000 Cost: 0.169744\n",
      "Epoch 3700/10000 Cost: 0.166445\n",
      "Epoch 3800/10000 Cost: 0.163264\n",
      "Epoch 3900/10000 Cost: 0.160194\n",
      "Epoch 4000/10000 Cost: 0.157232\n",
      "Epoch 4100/10000 Cost: 0.154370\n",
      "Epoch 4200/10000 Cost: 0.151604\n",
      "Epoch 4300/10000 Cost: 0.148931\n",
      "Epoch 4400/10000 Cost: 0.146344\n",
      "Epoch 4500/10000 Cost: 0.143840\n",
      "Epoch 4600/10000 Cost: 0.141416\n",
      "Epoch 4700/10000 Cost: 0.139067\n",
      "Epoch 4800/10000 Cost: 0.136791\n",
      "Epoch 4900/10000 Cost: 0.134584\n",
      "Epoch 5000/10000 Cost: 0.132442\n",
      "Epoch 5100/10000 Cost: 0.130365\n",
      "Epoch 5200/10000 Cost: 0.128348\n",
      "Epoch 5300/10000 Cost: 0.126389\n",
      "Epoch 5400/10000 Cost: 0.124485\n",
      "Epoch 5500/10000 Cost: 0.122635\n",
      "Epoch 5600/10000 Cost: 0.120837\n",
      "Epoch 5700/10000 Cost: 0.119087\n",
      "Epoch 5800/10000 Cost: 0.117385\n",
      "Epoch 5900/10000 Cost: 0.115729\n",
      "Epoch 6000/10000 Cost: 0.114116\n",
      "Epoch 6100/10000 Cost: 0.112545\n",
      "Epoch 6200/10000 Cost: 0.111015\n",
      "Epoch 6300/10000 Cost: 0.109524\n",
      "Epoch 6400/10000 Cost: 0.108071\n",
      "Epoch 6500/10000 Cost: 0.106654\n",
      "Epoch 6600/10000 Cost: 0.105271\n",
      "Epoch 6700/10000 Cost: 0.103923\n",
      "Epoch 6800/10000 Cost: 0.102607\n",
      "Epoch 6900/10000 Cost: 0.101322\n",
      "Epoch 7000/10000 Cost: 0.100068\n",
      "Epoch 7100/10000 Cost: 0.098843\n",
      "Epoch 7200/10000 Cost: 0.097646\n",
      "Epoch 7300/10000 Cost: 0.096477\n",
      "Epoch 7400/10000 Cost: 0.095334\n",
      "Epoch 7500/10000 Cost: 0.094217\n",
      "Epoch 7600/10000 Cost: 0.093124\n",
      "Epoch 7700/10000 Cost: 0.092056\n",
      "Epoch 7800/10000 Cost: 0.091010\n",
      "Epoch 7900/10000 Cost: 0.089988\n",
      "Epoch 8000/10000 Cost: 0.088987\n",
      "Epoch 8100/10000 Cost: 0.088007\n",
      "Epoch 8200/10000 Cost: 0.087048\n",
      "Epoch 8300/10000 Cost: 0.086108\n",
      "Epoch 8400/10000 Cost: 0.085188\n",
      "Epoch 8500/10000 Cost: 0.084287\n",
      "Epoch 8600/10000 Cost: 0.083404\n",
      "Epoch 8700/10000 Cost: 0.082538\n",
      "Epoch 8800/10000 Cost: 0.081689\n",
      "Epoch 8900/10000 Cost: 0.080858\n",
      "Epoch 9000/10000 Cost: 0.080042\n",
      "Epoch 9100/10000 Cost: 0.079242\n",
      "Epoch 9200/10000 Cost: 0.078457\n",
      "Epoch 9300/10000 Cost: 0.077687\n",
      "Epoch 9400/10000 Cost: 0.076932\n",
      "Epoch 9500/10000 Cost: 0.076190\n",
      "Epoch 9600/10000 Cost: 0.075463\n",
      "Epoch 9700/10000 Cost: 0.074748\n",
      "Epoch 9800/10000 Cost: 0.074047\n",
      "Epoch 9900/10000 Cost: 0.073358\n",
      "Epoch 10000/10000 Cost: 0.072681\n"
     ]
    }
   ],
   "source": [
    "# 모델 초기화\n",
    "W = torch.zeros((4, 3), requires_grad=True)\n",
    "b = torch.zeros(1, requires_grad=True)\n",
    "\n",
    "# optimizer 설정\n",
    "optimizer = optim.SGD([W, b], lr=0.1)\n",
    "\n",
    "nb_epochs = 10000 # n번반복\n",
    "for epoch in range(nb_epochs +1):\n",
    "    \n",
    "    z = x_train.matmul(W)+b\n",
    "    cost = F.cross_entropy(z, y_train)\n",
    "    \n",
    "    optimizer.zero_grad()\n",
    "    cost.backward()\n",
    "    optimizer.step()\n",
    "    \n",
    "    if epoch % 100 ==0:\n",
    "        print('Epoch {:4d}/{} Cost: {:.6f}'.format(epoch, nb_epochs, cost.item())) \n",
    "        \n",
    "        # epoch 실행횟수를 늘이니까 cost의 값이 점점 0에 수렴해나갔다. 로우 레벨이랑 값이 다르게 나옴.\n",
    "    "
   ]
  },
  {
   "cell_type": "code",
   "execution_count": 14,
   "id": "043899d7",
   "metadata": {},
   "outputs": [],
   "source": [
    "# nn.Module로 소프트맥스 회귀를 구현해보자 \n",
    "model = nn.Linear(4,3) # 4 특성 3개의 클래스 "
   ]
  },
  {
   "cell_type": "code",
   "execution_count": 15,
   "id": "a1f92fd2",
   "metadata": {},
   "outputs": [],
   "source": [
    "optimizer = optim.SGD(model.parameters(), lr=0.1)"
   ]
  },
  {
   "cell_type": "code",
   "execution_count": 18,
   "id": "75a45aa9",
   "metadata": {},
   "outputs": [
    {
     "name": "stdout",
     "output_type": "stream",
     "text": [
      "Epoch    0/1000 Cost: 1.286543\n",
      "Epoch  100/1000 Cost: 0.656476\n",
      "Epoch  200/1000 Cost: 0.572163\n",
      "Epoch  300/1000 Cost: 0.517179\n",
      "Epoch  400/1000 Cost: 0.472430\n",
      "Epoch  500/1000 Cost: 0.432755\n",
      "Epoch  600/1000 Cost: 0.395842\n",
      "Epoch  700/1000 Cost: 0.360206\n",
      "Epoch  800/1000 Cost: 0.324676\n",
      "Epoch  900/1000 Cost: 0.288448\n",
      "Epoch 1000/1000 Cost: 0.253543\n"
     ]
    }
   ],
   "source": [
    "nb_epochs = 1000\n",
    "for epoch in range(nb_epochs + 1):\n",
    "    \n",
    "    prediction = model(x_train) # H 계산\n",
    "    \n",
    "    cost = F.cross_entropy(prediction, y_train) # COST 계산\n",
    "    \n",
    "    optimizer.zero_grad()\n",
    "    cost.backward()\n",
    "    optimizer.step()\n",
    "    \n",
    "    if epoch % 100 == 0:\n",
    "        print('Epoch {:4d}/{} Cost: {:.6f}'.format(\n",
    "            epoch, nb_epochs, cost.item()\n",
    "        ))"
   ]
  },
  {
   "cell_type": "code",
   "execution_count": null,
   "id": "48bfd9b8",
   "metadata": {},
   "outputs": [],
   "source": []
  }
 ],
 "metadata": {
  "kernelspec": {
   "display_name": "Python 3",
   "language": "python",
   "name": "python3"
  },
  "language_info": {
   "codemirror_mode": {
    "name": "ipython",
    "version": 3
   },
   "file_extension": ".py",
   "mimetype": "text/x-python",
   "name": "python",
   "nbconvert_exporter": "python",
   "pygments_lexer": "ipython3",
   "version": "3.8.8"
  }
 },
 "nbformat": 4,
 "nbformat_minor": 5
}
