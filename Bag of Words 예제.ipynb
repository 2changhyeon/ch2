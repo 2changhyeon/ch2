{
 "cells": [
  {
   "cell_type": "code",
   "execution_count": 1,
   "id": "52cdceef",
   "metadata": {},
   "outputs": [],
   "source": [
    "from konlpy.tag import Okt\n",
    "import re  \n",
    "okt=Okt()  \n"
   ]
  },
  {
   "cell_type": "code",
   "execution_count": 2,
   "id": "f97686cb",
   "metadata": {},
   "outputs": [
    {
     "name": "stdout",
     "output_type": "stream",
     "text": [
      "{'정부': 0, '가': 1, '발표': 2, '하는': 3, '물가상승률': 4, '과': 5, '소비자': 6, '느끼는': 7, '은': 8, '다르다': 9}\n"
     ]
    }
   ],
   "source": [
    "token=re.sub(\"(\\.)\",\"\",\"정부가 발표하는 물가상승률과 소비자가 느끼는 물가상승률은 다르다.\")  \n",
    "token=okt.morphs(token) #OKT 형태소 분석기를 통해 토큰화 작업을 수행한 뒤에, token에다가 넣습니다.\n",
    "word2index={}\n",
    "bow=[]\n",
    "for voca in token:\n",
    "    if voca not in word2index.keys(): #token을 읽으면서 word2index에 not in이면 추가, in이면 넘어감\n",
    "        word2index[voca]=len(word2index)\n",
    "        \n",
    "        bow.insert(len(word2index)-1,1) #BoW 전체에 기본값 1을 넣어준다. 하나 있으니까 INDEX됐을테니까\n",
    "        \n",
    "    else:\n",
    "        index=word2index.get(voca) #재등장한 단어의 인덱스를 받아옴\n",
    "        bow[index]=bow[index]+1 #인덱스위치에 1을 더해준다. 즉 개수를 세는 것\n",
    "print(word2index)"
   ]
  },
  {
   "cell_type": "code",
   "execution_count": 3,
   "id": "c05ccd86",
   "metadata": {},
   "outputs": [
    {
     "data": {
      "text/plain": [
       "[1, 2, 1, 1, 2, 1, 1, 1, 1, 1]"
      ]
     },
     "execution_count": 3,
     "metadata": {},
     "output_type": "execute_result"
    }
   ],
   "source": [
    "bow"
   ]
  },
  {
   "cell_type": "code",
   "execution_count": 4,
   "id": "a7901a64",
   "metadata": {},
   "outputs": [],
   "source": [
    "from sklearn.feature_extraction.text import CountVectorizer"
   ]
  },
  {
   "cell_type": "code",
   "execution_count": 5,
   "id": "39f689d9",
   "metadata": {},
   "outputs": [],
   "source": [
    "corpus = ['you know I want your love. because I love you.']"
   ]
  },
  {
   "cell_type": "code",
   "execution_count": 6,
   "id": "8cd95944",
   "metadata": {},
   "outputs": [
    {
     "name": "stdout",
     "output_type": "stream",
     "text": [
      "[[1 1 2 1 2 1]]\n"
     ]
    }
   ],
   "source": [
    "vector = CountVectorizer()\n",
    "print(vector.fit_transform(corpus).toarray()) # 코퍼스로부터 각 단어의 빈도 수를 기록한다."
   ]
  },
  {
   "cell_type": "code",
   "execution_count": 7,
   "id": "416f9678",
   "metadata": {},
   "outputs": [
    {
     "name": "stdout",
     "output_type": "stream",
     "text": [
      "{'you': 4, 'know': 1, 'want': 3, 'your': 5, 'love': 2, 'because': 0}\n"
     ]
    }
   ],
   "source": [
    "print(vector.vocabulary_) #인덱스 어떻게 부여됐는지 확인"
   ]
  },
  {
   "cell_type": "code",
   "execution_count": null,
   "id": "481090eb",
   "metadata": {},
   "outputs": [],
   "source": []
  }
 ],
 "metadata": {
  "kernelspec": {
   "display_name": "Python 3",
   "language": "python",
   "name": "python3"
  },
  "language_info": {
   "codemirror_mode": {
    "name": "ipython",
    "version": 3
   },
   "file_extension": ".py",
   "mimetype": "text/x-python",
   "name": "python",
   "nbconvert_exporter": "python",
   "pygments_lexer": "ipython3",
   "version": "3.8.8"
  }
 },
 "nbformat": 4,
 "nbformat_minor": 5
}
